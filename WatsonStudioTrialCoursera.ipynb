{
    "cells": [
        {
            "cell_type": "markdown",
            "metadata": {},
            "source": "# My Jupyter Notebook on IBM Watson Studio"
        },
        {
            "cell_type": "markdown",
            "metadata": {
                "collapsed": true
            },
            "source": "**Roger Baker**  \nData Scientist"
        },
        {
            "cell_type": "markdown",
            "metadata": {},
            "source": "*I am interested in data science because I love complex puzzles and I enjoy the definitiveness of computer algorithms.*"
        },
        {
            "cell_type": "markdown",
            "metadata": {},
            "source": "### The following code cell contains a simple arithmetic expression"
        },
        {
            "cell_type": "code",
            "execution_count": 2,
            "metadata": {},
            "outputs": [
                {
                    "name": "stdout",
                    "output_type": "stream",
                    "text": "4\n"
                }
            ],
            "source": "print (6^2)"
        },
        {
            "cell_type": "markdown",
            "metadata": {},
            "source": "* This\n* is\n* a\n* bulleted\n* list  \n1. this\n1. is\n1. a\n1. numbered\n2. list  \n|This|Is|\n|----|--|\n|a|table|\n|of|values|  \n<https://www.markdownguide.org>  \n<img src=\"https://upload.wikimedia.org/wikipedia/commons/a/af/Tux.png\">\n"
        },
        {
            "cell_type": "code",
            "execution_count": null,
            "metadata": {},
            "outputs": [],
            "source": ""
        }
    ],
    "metadata": {
        "kernelspec": {
            "display_name": "Python 3.10",
            "language": "python",
            "name": "python3"
        },
        "language_info": {
            "codemirror_mode": {
                "name": "ipython",
                "version": 3
            },
            "file_extension": ".py",
            "mimetype": "text/x-python",
            "name": "python",
            "nbconvert_exporter": "python",
            "pygments_lexer": "ipython3",
            "version": "3.10.13"
        }
    },
    "nbformat": 4,
    "nbformat_minor": 1
}